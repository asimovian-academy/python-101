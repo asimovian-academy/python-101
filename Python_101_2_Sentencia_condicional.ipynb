{
  "nbformat": 4,
  "nbformat_minor": 0,
  "metadata": {
    "colab": {
      "name": "Python 101-2 Sentencia condicional.ipynb",
      "provenance": []
    },
    "kernelspec": {
      "name": "python3",
      "display_name": "Python 3"
    }
  },
  "cells": [
    {
      "cell_type": "markdown",
      "metadata": {
        "id": "tY63dSeWBqtB",
        "colab_type": "text"
      },
      "source": [
        "# Python 101\n",
        "## Sentencias condicionales\n",
        "\n",
        "Las funciones son más útiles cuando podemos elegir que regresen diferentes valores, dependiendo de ciertas condiciones. "
      ]
    },
    {
      "cell_type": "code",
      "metadata": {
        "id": "3h2MGkJaIXCt",
        "colab_type": "code",
        "colab": {}
      },
      "source": [
        "\"\"\"\n",
        "Por ejemplo, vamos a crear una función que nos indique si un número es par\n",
        "\"\"\"\n",
        "def es_par(n):\n",
        "  if n%2==0: # si n tiene residuo cero al dividirlo entre 2\n",
        "    print(str(n)+\" es par!\")\n",
        "    return True # regresará un valor True (cierto)\n",
        "  else: # si no tiene residuo cero, tiene residuo 1, y por tanto... \n",
        "    print(str(n)+\" es impar!\")\n",
        "    return False #regresará un valor False\n",
        "  \n",
        "# Ejemplos\n",
        "print(es_par(1234))\n",
        "print(es_par(123))"
      ],
      "execution_count": 0,
      "outputs": []
    },
    {
      "cell_type": "markdown",
      "metadata": {
        "id": "Be5RTjFrB63-",
        "colab_type": "text"
      },
      "source": [
        "Como puedes observar, en Python son muy importantes las *identaciones*, es decir, los espacios entre el margen izquierdo y el inicio de la línea de código. Estas identaciones corresponden a un **tab**. \n",
        "\n",
        "**Un bloque de código estará subordinado a otro, si tiene una identación mayor.**"
      ]
    },
    {
      "cell_type": "markdown",
      "metadata": {
        "id": "_iVKbwYfEP_4",
        "colab_type": "text"
      },
      "source": [
        "### Operadores de comparación\n",
        "Para comparar dos objetos, utilizaremos **operadores de comparación**, tal como lo hicimos en el ejemplo."
      ]
    },
    {
      "cell_type": "code",
      "metadata": {
        "id": "Pgu_WiITBclJ",
        "colab_type": "code",
        "colab": {}
      },
      "source": [
        "\"\"\"\n",
        "Operadores de comparación\n",
        "\"\"\"\n",
        "# = asinación \n",
        "# == igual a...\n",
        "print(3==2+1)\n",
        "print(3==1+1)\n",
        "print(type(3))\n",
        "print(type(3.0))\n",
        "print(float(3))\n",
        "print(3==3.0)\n",
        "print(\"a\"==\"b\")\n",
        "print(\"a\"==\"a\")"
      ],
      "execution_count": 0,
      "outputs": []
    },
    {
      "cell_type": "code",
      "metadata": {
        "id": "0k9-KbvUCyQj",
        "colab_type": "code",
        "colab": {}
      },
      "source": [
        "# != diferente de...\n",
        "print(3!=2+1)\n",
        "print(3!=1+1)\n",
        "print(3!=3.0)\n",
        "print(\"a\"!=\"b\")"
      ],
      "execution_count": 0,
      "outputs": []
    },
    {
      "cell_type": "code",
      "metadata": {
        "id": "83KrwGkZDHN0",
        "colab_type": "code",
        "colab": {}
      },
      "source": [
        "# > mayor que...\n",
        "print(3 > 2+1)\n",
        "print(3 > 1+1)\n",
        "print(3 > 3.0)\n",
        "print(\"a\" > \"b\")"
      ],
      "execution_count": 0,
      "outputs": []
    },
    {
      "cell_type": "code",
      "metadata": {
        "id": "xrSyYvZjDzJs",
        "colab_type": "code",
        "colab": {}
      },
      "source": [
        "# < menor que...\n",
        "print(3 < 2+1)\n",
        "print(3 < 1+1)\n",
        "print(3 < 3.0)\n",
        "print(\"aa\" < \"ab\")\n",
        "print(\"a\" < \"A\")\n",
        "print(\"A\" < \"a\")\n",
        "print(\"1\" < \"A\")"
      ],
      "execution_count": 0,
      "outputs": []
    },
    {
      "cell_type": "code",
      "metadata": {
        "id": "qNla5kAkD6UN",
        "colab_type": "code",
        "colab": {}
      },
      "source": [
        "# > mayor o igual que...\n",
        "print(3 >= 2+1)\n",
        "print(3 >= 1+1)\n",
        "print(3 >= 3.0)\n",
        "print(\"a\" >= \"b\")"
      ],
      "execution_count": 0,
      "outputs": []
    },
    {
      "cell_type": "code",
      "metadata": {
        "id": "B7qt-Gx6EEjd",
        "colab_type": "code",
        "colab": {}
      },
      "source": [
        "# < menor o igual que...\n",
        "print(3 <= 2+1)\n",
        "print(3 <= 1+1)\n",
        "print(3 <= 3.0)\n",
        "print(\"a\" <= \"b\")"
      ],
      "execution_count": 0,
      "outputs": []
    },
    {
      "cell_type": "markdown",
      "metadata": {
        "id": "fULnA0OvEi3q",
        "colab_type": "text"
      },
      "source": [
        "### Operadores lógicos\n",
        "\n",
        "Además, podemos evaluar una sentencia lógica compuesta, es decir, que su valor de verdad depende de sentecias más simples. "
      ]
    },
    {
      "cell_type": "code",
      "metadata": {
        "id": "IgrUqs8TEKmB",
        "colab_type": "code",
        "colab": {}
      },
      "source": [
        "# conjunción \"and\"\n",
        "print(False and False) # falso y falso = falso\n",
        "print(False and True) # falso y verdadero = falso\n",
        "print(True and False) # verdadero y falso = falso\n",
        "print(True and True) # verdadero y verdadero = verdadero"
      ],
      "execution_count": 0,
      "outputs": []
    },
    {
      "cell_type": "code",
      "metadata": {
        "id": "aUlgv4I589P8",
        "colab_type": "code",
        "colab": {}
      },
      "source": [
        "x = -11\n",
        "\n",
        "if x>0 or x**2 <100:\n",
        "  print(x)\n",
        "else:\n",
        "  print(\"Ninguna de las condiciones se cumple\")"
      ],
      "execution_count": 0,
      "outputs": []
    },
    {
      "cell_type": "code",
      "metadata": {
        "id": "DJ8U-jrM9LPU",
        "colab_type": "code",
        "colab": {}
      },
      "source": [
        "3>=2 and 3>=1+1"
      ],
      "execution_count": 0,
      "outputs": []
    },
    {
      "cell_type": "code",
      "metadata": {
        "id": "dnQaV0IYEhMr",
        "colab_type": "code",
        "colab": {}
      },
      "source": [
        "# disjunción \"or\"\n",
        "print(False or False)\n",
        "print(False or True)\n",
        "print(True or False)\n",
        "print(True or True)"
      ],
      "execution_count": 0,
      "outputs": []
    },
    {
      "cell_type": "code",
      "metadata": {
        "id": "L4VtvpTDhjzf",
        "colab_type": "code",
        "colab": {}
      },
      "source": [
        "proposicion = (3>2) or (1+1==2)\n",
        "print(proposicion)"
      ],
      "execution_count": 0,
      "outputs": []
    },
    {
      "cell_type": "code",
      "metadata": {
        "id": "ZQDVNGwMFu0p",
        "colab_type": "code",
        "colab": {}
      },
      "source": [
        "# disjunción exclusiva \"^\"\n",
        "print(False ^ False)\n",
        "print(False ^ True)\n",
        "print(True ^ False)\n",
        "print(True ^ True)"
      ],
      "execution_count": 0,
      "outputs": []
    },
    {
      "cell_type": "code",
      "metadata": {
        "id": "LmdmkwvthxOg",
        "colab_type": "code",
        "colab": {}
      },
      "source": [
        "proposicion = (3>2)^(1+1==2)\n",
        "print(proposicion)"
      ],
      "execution_count": 0,
      "outputs": []
    },
    {
      "cell_type": "code",
      "metadata": {
        "id": "D75BpudnF06g",
        "colab_type": "code",
        "colab": {}
      },
      "source": [
        "### Ejemplos \n",
        "print(3>2 and 2>1)\n",
        "print(3>2 and 2>4)\n",
        "print(3>2 or 2>4)\n",
        "print(3>2 ^ 2>1)"
      ],
      "execution_count": 0,
      "outputs": []
    },
    {
      "cell_type": "code",
      "metadata": {
        "id": "eZF5g5j3isya",
        "colab_type": "code",
        "colab": {}
      },
      "source": [
        "# p->q:= if p then q\n",
        "# 0->0: verdadera \n",
        "# 0->1: verdadera\n",
        "# 1->1: verdadero\n",
        "# 1->0: FALSO!!!\n",
        "if 2>1 or 2>3:\n",
        "  print(\"hola mundo!\")\n",
        "print(\"Python 101\")"
      ],
      "execution_count": 0,
      "outputs": []
    },
    {
      "cell_type": "markdown",
      "metadata": {
        "id": "A5sL688WHykV",
        "colab_type": "text"
      },
      "source": [
        "### Sentencias condicionales\n",
        "\n",
        "Una sentencia condicional es aquella que ejecuta un bloque de código siempre se cumpla una condición. Para esto, utilizaremos la palabra clave \"if\" con la siguiente estructura:\n",
        "\n",
        "```\n",
        "if condición:\n",
        "  bloque que se ejecutará si se cumple la condición\n",
        "```\n",
        "\n",
        "En caso de que no se cumpla la condición, podemos pedir que se ejecutre un bloque alternativo, con la plabra clave \"else\":\n",
        "\n",
        "\n",
        "```\n",
        "if condición:\n",
        "  bloque que se ejecutará si se cumple la condición\n",
        "else:\n",
        "  bloque que se ejecutará si no se cumple la condición\n",
        "```\n",
        "\n",
        "Finalmente, podemos verificar una secuencia de condiciones antes de ejecutar un bloque alternativo (o simplemente no ejecutar sentencia alguna). Esto lo haremos con la palabra clave \"elif\" La forma más general será:\n",
        "\n",
        "\n",
        "```\n",
        "if condición 1:\n",
        "  bloque...\n",
        "elif condición 2:\n",
        "  bloque...\n",
        "elif condición 3:\n",
        "  bloque...\n",
        "...\n",
        "...\n",
        "else: \n",
        "  bloque...\n",
        "```"
      ]
    },
    {
      "cell_type": "code",
      "metadata": {
        "id": "rp4INSR0GHag",
        "colab_type": "code",
        "colab": {}
      },
      "source": [
        "\"\"\"\n",
        "Defina una función que indique si un número es mayor que 10\n",
        "\"\"\"\n",
        "def mayor_que_10(n):\n",
        "  if n>10:\n",
        "    return str(n)+\" es mayor a 10.\" \n",
        "    # str(n) convierte el entero n a una cadena (string) de caractéres\n",
        "  else:\n",
        "    return str(n)+\" no es mayor a 10.\"\n",
        "\n",
        "print(mayor_que_10(11))\n",
        "print(mayor_que_10(10))\n",
        "print(mayor_que_10(10))"
      ],
      "execution_count": 0,
      "outputs": []
    },
    {
      "cell_type": "code",
      "metadata": {
        "id": "-SMobSD_HLEe",
        "colab_type": "code",
        "colab": {}
      },
      "source": [
        "\"\"\"\n",
        "Defina una función que indique si un número es positivo, cero o negativo\n",
        "\"\"\"\n",
        "def signo(n):\n",
        "  if n>0:\n",
        "    return str(n)+\" es positivo.\"\n",
        "  elif n==0:\n",
        "    return str(n)+\" es igual a cero.\"\n",
        "  else:\n",
        "    return str(n)+\" es negativo.\"\n",
        "\n",
        "print(signo(--1))\n",
        "print(signo(3-3))\n",
        "print(signo(-1/2))"
      ],
      "execution_count": 0,
      "outputs": []
    },
    {
      "cell_type": "code",
      "metadata": {
        "id": "M6QCAzzNJ_2o",
        "colab_type": "code",
        "colab": {}
      },
      "source": [
        "\"\"\"\n",
        "Defina una función que decida si un número x tiene valor absoluto menor a 1\n",
        "\"\"\"\n",
        "\n",
        "def valor_absoluto_menor_a_1(x):\n",
        "  if x>-1:\n",
        "    if x<1:\n",
        "      return True\n",
        "  else:\n",
        "    return False\n",
        "\n",
        "print(valor_absoluto_menor_a_1(-1.5))\n",
        "print(valor_absoluto_menor_a_1(-0.5))\n",
        "print(valor_absoluto_menor_a_1(1.5))"
      ],
      "execution_count": 0,
      "outputs": []
    },
    {
      "cell_type": "code",
      "metadata": {
        "id": "lRqQ0fRJKUUe",
        "colab_type": "code",
        "colab": {}
      },
      "source": [
        "\"\"\"\n",
        "De manera alternativa\n",
        "\"\"\"\n",
        "def valor_absoluto_menor_a_1(x):\n",
        "  if x>-1 and x<1:\n",
        "    return True\n",
        "  else:\n",
        "    return False\n",
        "\n",
        "print(valor_absoluto_menor_a_1(-1.5))\n",
        "print(valor_absoluto_menor_a_1(-0.5))\n",
        "print(valor_absoluto_menor_a_1(1.5))"
      ],
      "execution_count": 0,
      "outputs": []
    },
    {
      "cell_type": "markdown",
      "metadata": {
        "id": "pfED0AiELspA",
        "colab_type": "text"
      },
      "source": [
        "Una aplicación de las sentencias condicionales es garantizar que los datos que obtenemos del usuario sean del tipo que requerimos para nuestro problema. Los tipos de datos que estaremos manejando en el curso son\n",
        "\n",
        "\n",
        "\n",
        "*   Enteros `int`\n",
        "*   Real `float`\n",
        "*   Cadenas de caractéres `str`\n",
        "*   Booleanos `bool`\n",
        "\n",
        "Para conocer el tipo de un objeto, podemos usar la función `type()`\n",
        "\n"
      ]
    },
    {
      "cell_type": "code",
      "metadata": {
        "id": "vIGi5j1_LSA5",
        "colab_type": "code",
        "colab": {}
      },
      "source": [
        "print(type(1))\n",
        "print(type(1.0))\n",
        "print(type(\"1\"))\n",
        "print(type(True))"
      ],
      "execution_count": 0,
      "outputs": []
    },
    {
      "cell_type": "code",
      "metadata": {
        "id": "lRpkPpI4MVSo",
        "colab_type": "code",
        "colab": {}
      },
      "source": [
        "\"\"\"\n",
        "Ejemplo. Define una función que indique si el argumento n es entero o no.\n",
        "\"\"\"\n",
        "\n",
        "def es_entero(x):\n",
        "  if type(x)==int:\n",
        "    return True\n",
        "  else:\n",
        "    return False\n",
        "\n",
        "print(es_entero(1))\n",
        "print(es_entero(1.0))\n",
        "print(es_entero(\"1\"))\n",
        "print(es_entero(True))"
      ],
      "execution_count": 0,
      "outputs": []
    },
    {
      "cell_type": "code",
      "metadata": {
        "id": "y61W6I0QNE8M",
        "colab_type": "code",
        "colab": {}
      },
      "source": [
        "\"\"\"\n",
        "Ejemplo. Define una función que indique si un número real está en el \n",
        "intervalo [-1,1]\n",
        "\"\"\"\n",
        "def f(x):\n",
        "  if type(x)==float:\n",
        "    if x>=-1 and x<=1:\n",
        "      return True\n",
        "    else:\n",
        "      return False\n",
        "  else:\n",
        "    return \"El argumento no es un número real\"\n",
        "\n",
        "print(f(0.5))\n",
        "print(f(-1.5))\n",
        "print(f(1))\n",
        "print(f(\"0.5\"))"
      ],
      "execution_count": 0,
      "outputs": []
    },
    {
      "cell_type": "markdown",
      "metadata": {
        "id": "Kc7t5SU4OK2C",
        "colab_type": "text"
      },
      "source": [
        "Observa que en el penúltimo renglón, la función indica que 1 no es un número real. Si bien, los enteros son un subconjunto de los números reales, en Python los tipos son diferentes. Pero podemos corregir este problema, convirtiendo entre tipos.\n"
      ]
    },
    {
      "cell_type": "markdown",
      "metadata": {
        "id": "coljGxWNVUYY",
        "colab_type": "text"
      },
      "source": [
        "Sin embargo, en muchas operaciones, los enteros son convertidos en reales de manera automática si es que dicha operación tiene sentido. "
      ]
    },
    {
      "cell_type": "code",
      "metadata": {
        "id": "HV5y9bK6VShk",
        "colab_type": "code",
        "colab": {}
      },
      "source": [
        "def f(x):\n",
        "  x = float(x)\n",
        "  if type(x)==float:\n",
        "    if x>=-1 and x<=1:\n",
        "      return True\n",
        "    else:\n",
        "      return False\n",
        "  else:\n",
        "    return \"El argumento no es un número real\"\n",
        "\n",
        "print(f(0.5))\n",
        "print(f(-1.5))\n",
        "print(f(1))\n",
        "print(f(\"0.5\"))\n",
        "print(f([]))"
      ],
      "execution_count": 0,
      "outputs": []
    },
    {
      "cell_type": "code",
      "metadata": {
        "id": "RkxKMeCYN4L_",
        "colab_type": "code",
        "colab": {}
      },
      "source": [
        "x = 1\n",
        "print(x, type(x))\n",
        "y = 1.0\n",
        "print(y, type(y))\n",
        "z = x+y\n",
        "print(z, type(z))"
      ],
      "execution_count": 0,
      "outputs": []
    },
    {
      "cell_type": "markdown",
      "metadata": {
        "id": "-HyfTAIuSkC7",
        "colab_type": "text"
      },
      "source": [
        "En ocasiones, deseamos que una función que acepta una cadena de caractéres no sea sensible a las mayusculas, es decir, que no distinga entre \"Azul\", \"AZUL\" o \"azul. Para eso podemos convertir todo a minúsculas con el método `.lower()`"
      ]
    },
    {
      "cell_type": "code",
      "metadata": {
        "id": "y-GP8GTPSwHv",
        "colab_type": "code",
        "colab": {}
      },
      "source": [
        "color =\"AzUl\"\n",
        "print(color.lower())"
      ],
      "execution_count": 0,
      "outputs": []
    },
    {
      "cell_type": "markdown",
      "metadata": {
        "id": "b_mPpKQuWLc1",
        "colab_type": "text"
      },
      "source": [
        "Por último, podemos pedir al usuario que ingrese los datos de manera interactiva. En el siguiente ejemplo, aparecerá una barra en la te pedimos que ingreses tu número favorito."
      ]
    },
    {
      "cell_type": "code",
      "metadata": {
        "id": "0PvJlnrjS0yN",
        "colab_type": "code",
        "colab": {}
      },
      "source": [
        "print(\"Por favor, ingresa el número que más te guste:\")\n",
        "n = input()\n",
        "n = int(n) #convertimos tu respuesta en un entero\n",
        "if n%3==0:\n",
        "  print(\"Tu número es múltiplo de 3\")\n",
        "else:\n",
        "  print(\"Tu número no es múltiplo de 3\")"
      ],
      "execution_count": 0,
      "outputs": []
    },
    {
      "cell_type": "code",
      "metadata": {
        "id": "Y-VGh1thWeW7",
        "colab_type": "code",
        "colab": {}
      },
      "source": [
        ""
      ],
      "execution_count": 0,
      "outputs": []
    }
  ]
}